{
 "cells": [
  {
   "cell_type": "code",
   "execution_count": 1,
   "metadata": {},
   "outputs": [],
   "source": [
    "from bs4 import BeautifulSoup\n",
    "from urllib.request import urlopen, HTTPCookieProcessor, build_opener\n",
    "import pandas as pd\n",
    "import re\n",
    "\n",
    "# Need to implement cookies to avoid infinite redirect loop\n",
    "# https://stackoverflow.com/questions/32569934/urlopen-returning-redirect-error-for-valid-links\n",
    "from http.cookiejar import CookieJar\n",
    "pd.options.display.max_colwidth = 200"
   ]
  },
  {
   "cell_type": "markdown",
   "metadata": {},
   "source": [
    "## Experiment"
   ]
  },
  {
   "cell_type": "code",
   "execution_count": 3,
   "metadata": {},
   "outputs": [],
   "source": [
    "url = 'https://answers.microsoft.com/en-us/windows/forum/all/frequently-asked-questions-windows-10/5c0b9368-a9e8-4238-b1e4-45f4b7ed2fb9'\n",
    "cj = CookieJar()\n",
    "opener = build_opener(HTTPCookieProcessor(cj))\n",
    "page = opener.open(url)\n",
    "html = page.read().decode('utf-8')\n",
    "soup = BeautifulSoup(html, 'html.parser', )"
   ]
  },
  {
   "cell_type": "code",
   "execution_count": 4,
   "metadata": {},
   "outputs": [
    {
     "data": {
      "text/plain": [
       "<p><strong>What is Windows 10?</strong></p>"
      ]
     },
     "execution_count": 4,
     "metadata": {},
     "output_type": "execute_result"
    }
   ],
   "source": [
    "paragraphs = soup.find_all('p')\n",
    "paragraphs[17]"
   ]
  },
  {
   "cell_type": "code",
   "execution_count": 5,
   "metadata": {},
   "outputs": [
    {
     "data": {
      "text/plain": [
       "[<p><strong>What is Windows 10?</strong></p>,\n",
       " <p><span>Windows 10 is the name for Microsoft's next generation client operating system.\n",
       " </span></p>,\n",
       " <p>\n",
       " </p>,\n",
       " <p><strong>What happened to Windows 9?</strong></p>,\n",
       " <p><span>There was never a Windows 9, Microsoft skipped this number and went to 10 instead. Company officials decided to choose 10 because they believe this release is a 'Perfect 10' and to also signify this is the last major release of Windows. There will\n",
       "  still be revisions of Windows 10 called Feature Updates, just don't expect there to be a Windows 11, Windows 12 etc. Initially revealed at BUILD 2014 as a minor update called ‘Threshold’, Windows 10 was originally intended be a minor Update 2 for Windows 8.1.\n",
       "  Somewhere along the way, plans changed and the operating system evolved into the major revision we have today.</span></p>,\n",
       " <p>\n",
       " </p>,\n",
       " <p><strong>When will Windows 10 officially become available? </strong></p>,\n",
       " <p>Microsoft launched Windows 10 world wide on <strong>July 29th 2015 at 12 AM EST</strong>. This is what Microsoft Program Manager for Windows, Terry Myerson had to say:</p>]"
      ]
     },
     "execution_count": 5,
     "metadata": {},
     "output_type": "execute_result"
    }
   ],
   "source": [
    "paragraphs[17:25]"
   ]
  },
  {
   "cell_type": "code",
   "execution_count": 6,
   "metadata": {},
   "outputs": [],
   "source": [
    "bad_questions = [\n",
    "    'How satisfied are you with this comment?', \n",
    "    'How satisfied are you with this article?'\n",
    "]"
   ]
  },
  {
   "cell_type": "code",
   "execution_count": 7,
   "metadata": {},
   "outputs": [],
   "source": [
    "def question_filter(p:str) -> bool:\n",
    "    '''\n",
    "    questions must exist, end with a '?', and not be in the list of \n",
    "    bad questions.\n",
    "    '''\n",
    "    return bool(p.text) and p.text[-1] == '?' and all([s not in p for s in bad_questions])"
   ]
  },
  {
   "cell_type": "code",
   "execution_count": 8,
   "metadata": {},
   "outputs": [],
   "source": [
    "questions = [\n",
    "    (i, paragraph.text )\n",
    "    for i, paragraph in enumerate(paragraphs) \n",
    "    if question_filter(paragraph)\n",
    "]"
   ]
  },
  {
   "cell_type": "code",
   "execution_count": 9,
   "metadata": {},
   "outputs": [
    {
     "data": {
      "text/html": [
       "<div>\n",
       "<style scoped>\n",
       "    .dataframe tbody tr th:only-of-type {\n",
       "        vertical-align: middle;\n",
       "    }\n",
       "\n",
       "    .dataframe tbody tr th {\n",
       "        vertical-align: top;\n",
       "    }\n",
       "\n",
       "    .dataframe thead th {\n",
       "        text-align: right;\n",
       "    }\n",
       "</style>\n",
       "<table border=\"1\" class=\"dataframe\">\n",
       "  <thead>\n",
       "    <tr style=\"text-align: right;\">\n",
       "      <th></th>\n",
       "      <th>idx</th>\n",
       "      <th>question</th>\n",
       "    </tr>\n",
       "  </thead>\n",
       "  <tbody>\n",
       "    <tr>\n",
       "      <th>0</th>\n",
       "      <td>17</td>\n",
       "      <td>What is Windows 10?</td>\n",
       "    </tr>\n",
       "    <tr>\n",
       "      <th>1</th>\n",
       "      <td>20</td>\n",
       "      <td>What happened to Windows 9?</td>\n",
       "    </tr>\n",
       "    <tr>\n",
       "      <th>2</th>\n",
       "      <td>32</td>\n",
       "      <td>What is the build number of the public release?</td>\n",
       "    </tr>\n",
       "    <tr>\n",
       "      <th>3</th>\n",
       "      <td>38</td>\n",
       "      <td>How do I know which build of Windows 10 I have...</td>\n",
       "    </tr>\n",
       "    <tr>\n",
       "      <th>4</th>\n",
       "      <td>46</td>\n",
       "      <td>What does RTM mean?</td>\n",
       "    </tr>\n",
       "    <tr>\n",
       "      <th>...</th>\n",
       "      <td>...</td>\n",
       "      <td>...</td>\n",
       "    </tr>\n",
       "    <tr>\n",
       "      <th>68</th>\n",
       "      <td>466</td>\n",
       "      <td>I did a clean install of Windows 10 but cannot...</td>\n",
       "    </tr>\n",
       "    <tr>\n",
       "      <th>69</th>\n",
       "      <td>469</td>\n",
       "      <td>How does Windows 10 handle privacy?</td>\n",
       "    </tr>\n",
       "    <tr>\n",
       "      <th>70</th>\n",
       "      <td>481</td>\n",
       "      <td>Where can I get more information about Windows...</td>\n",
       "    </tr>\n",
       "    <tr>\n",
       "      <th>71</th>\n",
       "      <td>542</td>\n",
       "      <td>Q: will the  DVD-upgrade-version in fact be a ...</td>\n",
       "    </tr>\n",
       "    <tr>\n",
       "      <th>72</th>\n",
       "      <td>595</td>\n",
       "      <td>Q: will the  DVD-upgrade-version in fact be a ...</td>\n",
       "    </tr>\n",
       "  </tbody>\n",
       "</table>\n",
       "<p>73 rows × 2 columns</p>\n",
       "</div>"
      ],
      "text/plain": [
       "    idx                                           question\n",
       "0    17                                What is Windows 10?\n",
       "1    20                        What happened to Windows 9?\n",
       "2    32    What is the build number of the public release?\n",
       "3    38  How do I know which build of Windows 10 I have...\n",
       "4    46                                What does RTM mean?\n",
       "..  ...                                                ...\n",
       "68  466  I did a clean install of Windows 10 but cannot...\n",
       "69  469                How does Windows 10 handle privacy?\n",
       "70  481  Where can I get more information about Windows...\n",
       "71  542  Q: will the  DVD-upgrade-version in fact be a ...\n",
       "72  595  Q: will the  DVD-upgrade-version in fact be a ...\n",
       "\n",
       "[73 rows x 2 columns]"
      ]
     },
     "execution_count": 9,
     "metadata": {},
     "output_type": "execute_result"
    }
   ],
   "source": [
    "Qs = pd.DataFrame(questions, columns = ['idx', 'question'])\n",
    "Qs"
   ]
  },
  {
   "cell_type": "code",
   "execution_count": 10,
   "metadata": {},
   "outputs": [
    {
     "data": {
      "text/html": [
       "<div>\n",
       "<style scoped>\n",
       "    .dataframe tbody tr th:only-of-type {\n",
       "        vertical-align: middle;\n",
       "    }\n",
       "\n",
       "    .dataframe tbody tr th {\n",
       "        vertical-align: top;\n",
       "    }\n",
       "\n",
       "    .dataframe thead th {\n",
       "        text-align: right;\n",
       "    }\n",
       "</style>\n",
       "<table border=\"1\" class=\"dataframe\">\n",
       "  <thead>\n",
       "    <tr style=\"text-align: right;\">\n",
       "      <th></th>\n",
       "      <th>idx</th>\n",
       "      <th>question</th>\n",
       "    </tr>\n",
       "  </thead>\n",
       "  <tbody>\n",
       "    <tr>\n",
       "      <th>0</th>\n",
       "      <td>17</td>\n",
       "      <td>What is Windows 10?</td>\n",
       "    </tr>\n",
       "    <tr>\n",
       "      <th>1</th>\n",
       "      <td>20</td>\n",
       "      <td>What happened to Windows 9?</td>\n",
       "    </tr>\n",
       "    <tr>\n",
       "      <th>2</th>\n",
       "      <td>32</td>\n",
       "      <td>What is the build number of the public release?</td>\n",
       "    </tr>\n",
       "    <tr>\n",
       "      <th>3</th>\n",
       "      <td>38</td>\n",
       "      <td>How do I know which build of Windows 10 I have...</td>\n",
       "    </tr>\n",
       "    <tr>\n",
       "      <th>4</th>\n",
       "      <td>46</td>\n",
       "      <td>What does RTM mean?</td>\n",
       "    </tr>\n",
       "    <tr>\n",
       "      <th>5</th>\n",
       "      <td>49</td>\n",
       "      <td>Does Windows 10 require a Touch Screen?</td>\n",
       "    </tr>\n",
       "    <tr>\n",
       "      <th>6</th>\n",
       "      <td>52</td>\n",
       "      <td>Is the Start Screen still available in Windows...</td>\n",
       "    </tr>\n",
       "    <tr>\n",
       "      <th>7</th>\n",
       "      <td>55</td>\n",
       "      <td>Have the touch features been removed from Wind...</td>\n",
       "    </tr>\n",
       "    <tr>\n",
       "      <th>8</th>\n",
       "      <td>58</td>\n",
       "      <td>Will I need to be connected to the Internet in...</td>\n",
       "    </tr>\n",
       "    <tr>\n",
       "      <th>9</th>\n",
       "      <td>80</td>\n",
       "      <td>I am currently dual booting Windows and Linux;...</td>\n",
       "    </tr>\n",
       "    <tr>\n",
       "      <th>10</th>\n",
       "      <td>86</td>\n",
       "      <td>I am on a slow connection, what options do I h...</td>\n",
       "    </tr>\n",
       "    <tr>\n",
       "      <th>11</th>\n",
       "      <td>87</td>\n",
       "      <td>See: How\\r\\n to: Upgrade to Windows 10 if you ...</td>\n",
       "    </tr>\n",
       "    <tr>\n",
       "      <th>12</th>\n",
       "      <td>92</td>\n",
       "      <td>How do I troubleshoot Windows 10 installation ...</td>\n",
       "    </tr>\n",
       "    <tr>\n",
       "      <th>13</th>\n",
       "      <td>95</td>\n",
       "      <td>Will I have the option of choosing a different...</td>\n",
       "    </tr>\n",
       "    <tr>\n",
       "      <th>14</th>\n",
       "      <td>100</td>\n",
       "      <td>I am dual booting with another edition of Wind...</td>\n",
       "    </tr>\n",
       "    <tr>\n",
       "      <th>15</th>\n",
       "      <td>103</td>\n",
       "      <td>Will upgrading to Windows 10 affect other driv...</td>\n",
       "    </tr>\n",
       "    <tr>\n",
       "      <th>16</th>\n",
       "      <td>114</td>\n",
       "      <td>I want to switch from my currently installed a...</td>\n",
       "    </tr>\n",
       "    <tr>\n",
       "      <th>17</th>\n",
       "      <td>118</td>\n",
       "      <td>Which edition of Windows 10 will be installed?</td>\n",
       "    </tr>\n",
       "    <tr>\n",
       "      <th>18</th>\n",
       "      <td>133</td>\n",
       "      <td>Will my Antivirus be compatible with Windows 10?</td>\n",
       "    </tr>\n",
       "    <tr>\n",
       "      <th>19</th>\n",
       "      <td>138</td>\n",
       "      <td>Can I choose a different language during the u...</td>\n",
       "    </tr>\n",
       "    <tr>\n",
       "      <th>20</th>\n",
       "      <td>145</td>\n",
       "      <td>Which languages will Windows 10 be available in?</td>\n",
       "    </tr>\n",
       "    <tr>\n",
       "      <th>21</th>\n",
       "      <td>152</td>\n",
       "      <td>I heard that Windows 10 will work on my phone?</td>\n",
       "    </tr>\n",
       "    <tr>\n",
       "      <th>22</th>\n",
       "      <td>155</td>\n",
       "      <td>Is there a list of supported phones?</td>\n",
       "    </tr>\n",
       "    <tr>\n",
       "      <th>23</th>\n",
       "      <td>158</td>\n",
       "      <td>So there is not going to be a separate Windows...</td>\n",
       "    </tr>\n",
       "    <tr>\n",
       "      <th>24</th>\n",
       "      <td>161</td>\n",
       "      <td>How will I get the update on my phone?</td>\n",
       "    </tr>\n",
       "    <tr>\n",
       "      <th>25</th>\n",
       "      <td>166</td>\n",
       "      <td>Does Windows 10 require product activation?</td>\n",
       "    </tr>\n",
       "    <tr>\n",
       "      <th>26</th>\n",
       "      <td>171</td>\n",
       "      <td>What are some of the new improvements in Windo...</td>\n",
       "    </tr>\n",
       "    <tr>\n",
       "      <th>27</th>\n",
       "      <td>172</td>\n",
       "      <td>Which features will be removed when I upgrade ...</td>\n",
       "    </tr>\n",
       "    <tr>\n",
       "      <th>28</th>\n",
       "      <td>177</td>\n",
       "      <td>Is Media Center supported in Windows 10?</td>\n",
       "    </tr>\n",
       "    <tr>\n",
       "      <th>29</th>\n",
       "      <td>180</td>\n",
       "      <td>So what are the alternatives if I need Media C...</td>\n",
       "    </tr>\n",
       "  </tbody>\n",
       "</table>\n",
       "</div>"
      ],
      "text/plain": [
       "    idx                                           question\n",
       "0    17                                What is Windows 10?\n",
       "1    20                        What happened to Windows 9?\n",
       "2    32    What is the build number of the public release?\n",
       "3    38  How do I know which build of Windows 10 I have...\n",
       "4    46                                What does RTM mean?\n",
       "5    49            Does Windows 10 require a Touch Screen?\n",
       "6    52  Is the Start Screen still available in Windows...\n",
       "7    55  Have the touch features been removed from Wind...\n",
       "8    58  Will I need to be connected to the Internet in...\n",
       "9    80  I am currently dual booting Windows and Linux;...\n",
       "10   86  I am on a slow connection, what options do I h...\n",
       "11   87  See: How\\r\\n to: Upgrade to Windows 10 if you ...\n",
       "12   92  How do I troubleshoot Windows 10 installation ...\n",
       "13   95  Will I have the option of choosing a different...\n",
       "14  100  I am dual booting with another edition of Wind...\n",
       "15  103  Will upgrading to Windows 10 affect other driv...\n",
       "16  114  I want to switch from my currently installed a...\n",
       "17  118     Which edition of Windows 10 will be installed?\n",
       "18  133   Will my Antivirus be compatible with Windows 10?\n",
       "19  138  Can I choose a different language during the u...\n",
       "20  145   Which languages will Windows 10 be available in?\n",
       "21  152     I heard that Windows 10 will work on my phone?\n",
       "22  155               Is there a list of supported phones?\n",
       "23  158  So there is not going to be a separate Windows...\n",
       "24  161             How will I get the update on my phone?\n",
       "25  166        Does Windows 10 require product activation?\n",
       "26  171  What are some of the new improvements in Windo...\n",
       "27  172  Which features will be removed when I upgrade ...\n",
       "28  177           Is Media Center supported in Windows 10?\n",
       "29  180  So what are the alternatives if I need Media C..."
      ]
     },
     "execution_count": 10,
     "metadata": {},
     "output_type": "execute_result"
    }
   ],
   "source": [
    "Qs.head(30)"
   ]
  },
  {
   "cell_type": "code",
   "execution_count": 11,
   "metadata": {},
   "outputs": [],
   "source": [
    "Qs['answer_idx_range'] = [\n",
    "    (row.idx+1, Qs.loc[i+1, 'idx']) \n",
    "    if i < Qs.shape[0] -1 \n",
    "    else (row.idx+1, -1)\n",
    "    for i, row in Qs.iterrows() \n",
    "]"
   ]
  },
  {
   "cell_type": "code",
   "execution_count": 12,
   "metadata": {},
   "outputs": [
    {
     "data": {
      "text/html": [
       "<div>\n",
       "<style scoped>\n",
       "    .dataframe tbody tr th:only-of-type {\n",
       "        vertical-align: middle;\n",
       "    }\n",
       "\n",
       "    .dataframe tbody tr th {\n",
       "        vertical-align: top;\n",
       "    }\n",
       "\n",
       "    .dataframe thead th {\n",
       "        text-align: right;\n",
       "    }\n",
       "</style>\n",
       "<table border=\"1\" class=\"dataframe\">\n",
       "  <thead>\n",
       "    <tr style=\"text-align: right;\">\n",
       "      <th></th>\n",
       "      <th>idx</th>\n",
       "      <th>question</th>\n",
       "      <th>answer_idx_range</th>\n",
       "    </tr>\n",
       "  </thead>\n",
       "  <tbody>\n",
       "    <tr>\n",
       "      <th>0</th>\n",
       "      <td>17</td>\n",
       "      <td>What is Windows 10?</td>\n",
       "      <td>(18, 20)</td>\n",
       "    </tr>\n",
       "    <tr>\n",
       "      <th>1</th>\n",
       "      <td>20</td>\n",
       "      <td>What happened to Windows 9?</td>\n",
       "      <td>(21, 32)</td>\n",
       "    </tr>\n",
       "    <tr>\n",
       "      <th>2</th>\n",
       "      <td>32</td>\n",
       "      <td>What is the build number of the public release?</td>\n",
       "      <td>(33, 38)</td>\n",
       "    </tr>\n",
       "    <tr>\n",
       "      <th>3</th>\n",
       "      <td>38</td>\n",
       "      <td>How do I know which build of Windows 10 I have...</td>\n",
       "      <td>(39, 46)</td>\n",
       "    </tr>\n",
       "    <tr>\n",
       "      <th>4</th>\n",
       "      <td>46</td>\n",
       "      <td>What does RTM mean?</td>\n",
       "      <td>(47, 49)</td>\n",
       "    </tr>\n",
       "    <tr>\n",
       "      <th>...</th>\n",
       "      <td>...</td>\n",
       "      <td>...</td>\n",
       "      <td>...</td>\n",
       "    </tr>\n",
       "    <tr>\n",
       "      <th>68</th>\n",
       "      <td>466</td>\n",
       "      <td>I did a clean install of Windows 10 but cannot...</td>\n",
       "      <td>(467, 469)</td>\n",
       "    </tr>\n",
       "    <tr>\n",
       "      <th>69</th>\n",
       "      <td>469</td>\n",
       "      <td>How does Windows 10 handle privacy?</td>\n",
       "      <td>(470, 481)</td>\n",
       "    </tr>\n",
       "    <tr>\n",
       "      <th>70</th>\n",
       "      <td>481</td>\n",
       "      <td>Where can I get more information about Windows...</td>\n",
       "      <td>(482, 542)</td>\n",
       "    </tr>\n",
       "    <tr>\n",
       "      <th>71</th>\n",
       "      <td>542</td>\n",
       "      <td>Q: will the  DVD-upgrade-version in fact be a ...</td>\n",
       "      <td>(543, 595)</td>\n",
       "    </tr>\n",
       "    <tr>\n",
       "      <th>72</th>\n",
       "      <td>595</td>\n",
       "      <td>Q: will the  DVD-upgrade-version in fact be a ...</td>\n",
       "      <td>(596, -1)</td>\n",
       "    </tr>\n",
       "  </tbody>\n",
       "</table>\n",
       "<p>73 rows × 3 columns</p>\n",
       "</div>"
      ],
      "text/plain": [
       "    idx                                           question answer_idx_range\n",
       "0    17                                What is Windows 10?         (18, 20)\n",
       "1    20                        What happened to Windows 9?         (21, 32)\n",
       "2    32    What is the build number of the public release?         (33, 38)\n",
       "3    38  How do I know which build of Windows 10 I have...         (39, 46)\n",
       "4    46                                What does RTM mean?         (47, 49)\n",
       "..  ...                                                ...              ...\n",
       "68  466  I did a clean install of Windows 10 but cannot...       (467, 469)\n",
       "69  469                How does Windows 10 handle privacy?       (470, 481)\n",
       "70  481  Where can I get more information about Windows...       (482, 542)\n",
       "71  542  Q: will the  DVD-upgrade-version in fact be a ...       (543, 595)\n",
       "72  595  Q: will the  DVD-upgrade-version in fact be a ...        (596, -1)\n",
       "\n",
       "[73 rows x 3 columns]"
      ]
     },
     "execution_count": 12,
     "metadata": {},
     "output_type": "execute_result"
    }
   ],
   "source": [
    "Qs"
   ]
  },
  {
   "cell_type": "code",
   "execution_count": 13,
   "metadata": {},
   "outputs": [],
   "source": [
    "Qs['answer'] = [\n",
    "    ' '.join(p.text for p in paragraphs[start:stop])\n",
    "    for i, (start, stop) in Qs.answer_idx_range.iteritems()\n",
    "]"
   ]
  },
  {
   "cell_type": "code",
   "execution_count": 14,
   "metadata": {},
   "outputs": [],
   "source": [
    "Qs.drop(columns = ['idx', 'answer_idx_range']).to_csv('../data/scraped_QAs/microsoft_faq_1.csv')"
   ]
  },
  {
   "cell_type": "code",
   "execution_count": 15,
   "metadata": {},
   "outputs": [],
   "source": [
    "def scrape_site(url:str):\n",
    "    cj = CookieJar()\n",
    "    opener = build_opener(HTTPCookieProcessor(cj))\n",
    "    page = opener.open(url)\n",
    "    html = page.read().decode('utf-8')\n",
    "    return BeautifulSoup(html, 'html.parser', )"
   ]
  },
  {
   "cell_type": "code",
   "execution_count": 16,
   "metadata": {},
   "outputs": [],
   "source": [
    "def remove_whitespace(s:str) -> str:\n",
    "    return s.replace('\\n', ' ').replace('\\r', ' ').strip()\n",
    "    \n",
    "def find_questions_answers(soup) -> pd.DataFrame:\n",
    "    paragraphs = soup.find_all('p')\n",
    "    questions = [\n",
    "        (i, remove_whitespace(paragraph.text))\n",
    "        for i, paragraph in enumerate(paragraphs) \n",
    "        if question_filter(paragraph)\n",
    "    ]\n",
    "\n",
    "    QA = pd.DataFrame(questions, columns = ['idx', 'question'])\n",
    "    QA['answer_idx_range'] = [\n",
    "        (row.idx+1, QA.loc[i+1, 'idx']) \n",
    "        if i < QA.shape[0] -1 \n",
    "        else (row.idx+1, -1)\n",
    "        for i, row in QA.iterrows() \n",
    "    ]\n",
    "    QA['answer'] = [\n",
    "        ' '.join(remove_whitespace(p.text) for p in paragraphs[start:stop])\n",
    "        for i, (start, stop) in QA.answer_idx_range.iteritems()\n",
    "    ]\n",
    "    return QA.drop(columns = ['idx', 'answer_idx_range'])"
   ]
  },
  {
   "cell_type": "code",
   "execution_count": 36,
   "metadata": {},
   "outputs": [],
   "source": [
    "urls = [\n",
    "    'https://answers.microsoft.com/en-us/windows/forum/all/frequently-asked-questions-windows-10/5c0b9368-a9e8-4238-b1e4-45f4b7ed2fb9',\n",
    "    'https://answers.microsoft.com/en-us/windows/forum/all/frequently-asked-questions-windows-10-part-2/ef6cdc30-ee04-4a0e-ae13-03fa41350452',\n",
    "    'https://answers.microsoft.com/en-us/insider/forum/all/frequently-asked-questions-windows-10-anniversary/c3778392-8fcf-4e32-b652-d8e187cc48e0'\n",
    "]\n",
    "dfs = []\n",
    "for url in urls:\n",
    "    soup = scrape_site(url)\n",
    "    dfs.append(find_questions_answers(soup))\n",
    "\n",
    "QA = pd.concat(dfs)\n"
   ]
  },
  {
   "cell_type": "code",
   "execution_count": 37,
   "metadata": {},
   "outputs": [],
   "source": [
    "QA = QA.reset_index(drop = True)"
   ]
  },
  {
   "cell_type": "code",
   "execution_count": 39,
   "metadata": {},
   "outputs": [],
   "source": [
    "# Initialize the labeling\n",
    "# QA['intent'] = ''\n",
    "# i = 0"
   ]
  },
  {
   "cell_type": "code",
   "execution_count": 2,
   "metadata": {},
   "outputs": [],
   "source": [
    "# To restart the labeling Session\n",
    "QA = pd.read_csv('../data/scraped_QAs/windows_faq.csv', index_col = 0)\n",
    "QA.head()\n",
    "i = 84"
   ]
  },
  {
   "cell_type": "code",
   "execution_count": 104,
   "metadata": {},
   "outputs": [
    {
     "data": {
      "text/plain": [
       "(149, 3)"
      ]
     },
     "execution_count": 104,
     "metadata": {},
     "output_type": "execute_result"
    }
   ],
   "source": [
    "QA.shape"
   ]
  },
  {
   "cell_type": "code",
   "execution_count": 3,
   "metadata": {},
   "outputs": [],
   "source": [
    "intents = [\n",
    "    'general',\n",
    "    'change_settings',\n",
    "    'navigation',\n",
    "    'system_info',\n",
    "    'terminology',\n",
    "    'requirements',\n",
    "    'dual_boot',\n",
    "    'system_upgrade',\n",
    "    'software_updates',\n",
    "    'installation',\n",
    "    'program_compatability',\n",
    "    'windows_phone',\n",
    "    'product_keys'\n",
    "]\n",
    "\n",
    "intents_hierarchy = {\n",
    "    'microsoft_policies': {\n",
    "        'product_keys':{\n",
    "            'product_key_cost':{}\n",
    "        },\n",
    "        'privacy':{},\n",
    "        'general': {},\n",
    "        'windows_editions': {},\n",
    "        'windows_10_builds': {\n",
    "            'current_build':{},\n",
    "            'known_problems': {}\n",
    "            \n",
    "        },\n",
    "        'windows_updates_cost': {},\n",
    "        'terminology': {}\n",
    "        \n",
    "    },\n",
    "    'getting_windows_10': {\n",
    "        'hardware_compatability': {\n",
    "            'hardware_minimum_requirements': {},\n",
    "        },\n",
    "        'installation_process': {\n",
    "            'installation_requirements': {},\n",
    "            'system_upgrade': {\n",
    "                'upgrade_status': {},\n",
    "            },\n",
    "            'upgrading_incompatable_devices': {},\n",
    "            'easy_upgrade': {},\n",
    "            'dvd_upgrade': {},\n",
    "            'monitor_install_progress':{},\n",
    "            'clean_install': {}\n",
    "        },\n",
    "        'installation_errors': {\n",
    "            ''\n",
    "        }\n",
    "    },\n",
    "    'using_windows_10': {\n",
    "        'software_updates': {\n",
    "            'perform_software_update':{},\n",
    "            'software_updates_frequency': {},\n",
    "            'driver_updates': {},\n",
    "        },\n",
    "        'changing_settings': {\n",
    "            'wifi_settings':{},\n",
    "            'bluetooth_settings':{},\n",
    "            'cortana_settings':{},\n",
    "            'theme_settings':{},\n",
    "            'dock_settings': {},\n",
    "\n",
    "        },\n",
    "        'navigation': {\n",
    "            'accessing_currently_open_apps': {},\n",
    "            'installing_apps': {},\n",
    "            'desktop_features': {\n",
    "                'desktop_shortcuts': {}\n",
    "            }\n",
    "        },\n",
    "        'get_system_info': {\n",
    "            'get_current_build': {},\n",
    "            \n",
    "        },\n",
    "        'dual_booting': {},\n",
    "        'program_compatability': {\n",
    "        },\n",
    "        \n",
    "    },\n",
    "    'windows_phone': {},\n",
    "    'out_out_scope': {\n",
    "        'windows_10_launch': {},\n",
    "        'reserve_windows_10': {},\n",
    "        'computer_purchases': {}\n",
    "    }\n",
    "}"
   ]
  },
  {
   "cell_type": "code",
   "execution_count": 103,
   "metadata": {},
   "outputs": [
    {
     "data": {
      "text/plain": [
       "question                                                                          Microsoft says Windows 10 Pro installations can be upgraded to Windows 10 Enterprise E3 or E5 within 2 minutes. How is this done?\n",
       "answer      A license is assigned to a user through Azure Active Directory. When the user signs in, the upgrade is performed on the fly. This can also be done presently for standard Windows 10 Pro and Enterpr...\n",
       "intent                                                                                                                                                                                                          NaN\n",
       "Name: 131, dtype: object"
      ]
     },
     "execution_count": 103,
     "metadata": {},
     "output_type": "execute_result"
    }
   ],
   "source": [
    "# Print Current\n",
    "i += 1\n",
    "QA.loc[i]"
   ]
  },
  {
   "cell_type": "code",
   "execution_count": 102,
   "metadata": {},
   "outputs": [],
   "source": [
    "# Set current\n",
    "QA.loc[i, 'intent'] = 'windows_editions' "
   ]
  },
  {
   "cell_type": "code",
   "execution_count": 82,
   "metadata": {},
   "outputs": [
    {
     "name": "stdout",
     "output_type": "stream",
     "text": [
      "122\n"
     ]
    }
   ],
   "source": [
    "# Sanity check of current\n",
    "print(i)"
   ]
  },
  {
   "cell_type": "code",
   "execution_count": 80,
   "metadata": {},
   "outputs": [],
   "source": [
    "QA.to_csv('../data/scraped_QAs/windows_faq.csv')"
   ]
  },
  {
   "cell_type": "code",
   "execution_count": 70,
   "metadata": {},
   "outputs": [
    {
     "data": {
      "text/plain": [
       "'Since the introduction of Windows Update as part of Windows, Microsoft has delivered updates as way to keep Windows updated and secure. This has always been the way the company keeps commercial versions of Windows on the market current.  With Windows 10, Microsoft is making significant changes to this model by delivering new methods of servicing Windows. Taking into account we now live in a mobile, constantly connected world, where threats happen all the time. Part of the solution to this   is to keep users current by providing the latest updates\\xa0as soon\\xa0as they are\\xa0available in addition to delivering features as soon as they ready too.  Microsoft will do this using three types of service branches for Windows 10: Service Branch   Options   Edition     Current Branch    Security Updates, Features and Fixes are automatically applied.There is no option to delay or customize these updates.    Windows 10 Home     Current Branch for Business (CBB)    CBB includes the requirements of the Current Branch, but also provides the option of customizing when and which Security Updates, Features and Fixes are applied, similar to how Windows Update works today in current versions of Windows.\\xa0Updates cannot be deferred indefinitely.Windows Updates can be managed using enterprise management tools such as Windows Update for Business and/ WSUS.    Windows 10 ProWindows 10 Enterprise Windows 10 Education     Long Term Servicing Branch (LTSB)    Only available to volume license customers running Windows 10 Enterprise.Flexible options for managing Windows Updates.Windows Updates can be customized to only accept Security Fixes.Windows Updates can be managed using enterprise management tools such as Windows Update for Business and/ WSUS.    Windows 10 Enterprise Service Branch Options Edition Current Branch Current Branch for Business (CBB) Long Term Servicing Branch (LTSB) '"
      ]
     },
     "execution_count": 70,
     "metadata": {},
     "output_type": "execute_result"
    }
   ],
   "source": [
    "QA.loc[i, 'answer']"
   ]
  },
  {
   "cell_type": "code",
   "execution_count": null,
   "metadata": {},
   "outputs": [],
   "source": []
  }
 ],
 "metadata": {
  "interpreter": {
   "hash": "e369c5024c269893b0de5e1ead3000fd8ae23ef91b2ea15655f80b7f7674da87"
  },
  "kernelspec": {
   "display_name": "Python 3.9.5 64-bit ('venv': venv)",
   "language": "python",
   "name": "python3"
  },
  "language_info": {
   "codemirror_mode": {
    "name": "ipython",
    "version": 3
   },
   "file_extension": ".py",
   "mimetype": "text/x-python",
   "name": "python",
   "nbconvert_exporter": "python",
   "pygments_lexer": "ipython3",
   "version": "3.9.5"
  },
  "orig_nbformat": 4
 },
 "nbformat": 4,
 "nbformat_minor": 2
}
